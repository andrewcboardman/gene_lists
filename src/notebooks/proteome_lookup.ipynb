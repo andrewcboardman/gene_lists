{
 "cells": [
  {
   "cell_type": "code",
   "execution_count": 1,
   "metadata": {},
   "outputs": [],
   "source": [
    "import pandas as pd"
   ]
  },
  {
   "cell_type": "code",
   "execution_count": 41,
   "metadata": {},
   "outputs": [],
   "source": [
    "uniprot_human_mapping = pd.read_csv('../data/universe/UP000005640_9606.idmapping',sep='\\t',header=None)\n",
    "uniprot_human_mapping.columns = ['uniprot_accession','mapping_type','mapping_dest']\n",
    "uniprot_human_mapping = uniprot_human_mapping[uniprot_human_mapping['mapping_type'].isin(['Ensembl','Gene_Name'])]\n",
    "uniprot_human_mapping = uniprot_human_mapping.pivot_table(index='uniprot_accession',columns='mapping_type',values='mapping_dest',aggfunc=list)\n",
    "uniprot_human_mapping = uniprot_human_mapping[~uniprot_human_mapping.Ensembl.isna() & ~uniprot_human_mapping.Gene_Name.isna()]\n",
    "uniprot_human_mapping = uniprot_human_mapping[(uniprot_human_mapping.Ensembl.map(len) == 1) & (uniprot_human_mapping.Gene_Name.map(len) == 1)]\n",
    "uniprot_human_mapping['Gene_Name'] = uniprot_human_mapping['Gene_Name'].map(lambda x: x[0])\n",
    "uniprot_human_mapping['Ensembl'] = uniprot_human_mapping['Ensembl'].map(lambda x: x[0])"
   ]
  },
  {
   "cell_type": "code",
   "execution_count": 43,
   "metadata": {},
   "outputs": [
    {
     "data": {
      "text/html": [
       "<div>\n",
       "<style scoped>\n",
       "    .dataframe tbody tr th:only-of-type {\n",
       "        vertical-align: middle;\n",
       "    }\n",
       "\n",
       "    .dataframe tbody tr th {\n",
       "        vertical-align: top;\n",
       "    }\n",
       "\n",
       "    .dataframe thead th {\n",
       "        text-align: right;\n",
       "    }\n",
       "</style>\n",
       "<table border=\"1\" class=\"dataframe\">\n",
       "  <thead>\n",
       "    <tr style=\"text-align: right;\">\n",
       "      <th>mapping_type</th>\n",
       "      <th>uniprot_accession</th>\n",
       "      <th>Ensembl</th>\n",
       "      <th>Gene_Name</th>\n",
       "    </tr>\n",
       "  </thead>\n",
       "  <tbody>\n",
       "    <tr>\n",
       "      <th>0</th>\n",
       "      <td>A0A024QZ33</td>\n",
       "      <td>ENSG00000126653</td>\n",
       "      <td>NSRP1</td>\n",
       "    </tr>\n",
       "    <tr>\n",
       "      <th>1</th>\n",
       "      <td>A0A024QZ42</td>\n",
       "      <td>ENSG00000249915</td>\n",
       "      <td>PDCD6</td>\n",
       "    </tr>\n",
       "    <tr>\n",
       "      <th>2</th>\n",
       "      <td>A0A024QZP7</td>\n",
       "      <td>ENSG00000170312</td>\n",
       "      <td>CDK1</td>\n",
       "    </tr>\n",
       "    <tr>\n",
       "      <th>3</th>\n",
       "      <td>A0A024QZW4</td>\n",
       "      <td>ENSG00000124786</td>\n",
       "      <td>SLC35B3</td>\n",
       "    </tr>\n",
       "    <tr>\n",
       "      <th>4</th>\n",
       "      <td>A0A024QZX5</td>\n",
       "      <td>ENSG00000124570</td>\n",
       "      <td>SERPINB6</td>\n",
       "    </tr>\n",
       "    <tr>\n",
       "      <th>...</th>\n",
       "      <td>...</td>\n",
       "      <td>...</td>\n",
       "      <td>...</td>\n",
       "    </tr>\n",
       "    <tr>\n",
       "      <th>74371</th>\n",
       "      <td>X6RLX0</td>\n",
       "      <td>ENSG00000082805</td>\n",
       "      <td>ERC1</td>\n",
       "    </tr>\n",
       "    <tr>\n",
       "      <th>74372</th>\n",
       "      <td>X6RLY7</td>\n",
       "      <td>ENSG00000151062</td>\n",
       "      <td>CACNA2D4</td>\n",
       "    </tr>\n",
       "    <tr>\n",
       "      <th>74373</th>\n",
       "      <td>X6RM00</td>\n",
       "      <td>ENSG00000082805</td>\n",
       "      <td>ERC1</td>\n",
       "    </tr>\n",
       "    <tr>\n",
       "      <th>74374</th>\n",
       "      <td>X6RM24</td>\n",
       "      <td>ENSG00000132199</td>\n",
       "      <td>ENOSF1</td>\n",
       "    </tr>\n",
       "    <tr>\n",
       "      <th>74375</th>\n",
       "      <td>X6RM59</td>\n",
       "      <td>ENSG00000122643</td>\n",
       "      <td>NT5C3A</td>\n",
       "    </tr>\n",
       "  </tbody>\n",
       "</table>\n",
       "<p>74376 rows × 3 columns</p>\n",
       "</div>"
      ],
      "text/plain": [
       "mapping_type uniprot_accession          Ensembl Gene_Name\n",
       "0                   A0A024QZ33  ENSG00000126653     NSRP1\n",
       "1                   A0A024QZ42  ENSG00000249915     PDCD6\n",
       "2                   A0A024QZP7  ENSG00000170312      CDK1\n",
       "3                   A0A024QZW4  ENSG00000124786   SLC35B3\n",
       "4                   A0A024QZX5  ENSG00000124570  SERPINB6\n",
       "...                        ...              ...       ...\n",
       "74371                   X6RLX0  ENSG00000082805      ERC1\n",
       "74372                   X6RLY7  ENSG00000151062  CACNA2D4\n",
       "74373                   X6RM00  ENSG00000082805      ERC1\n",
       "74374                   X6RM24  ENSG00000132199    ENOSF1\n",
       "74375                   X6RM59  ENSG00000122643    NT5C3A\n",
       "\n",
       "[74376 rows x 3 columns]"
      ]
     },
     "execution_count": 43,
     "metadata": {},
     "output_type": "execute_result"
    }
   ],
   "source": [
    "uniprot_human_mapping.reset_index()"
   ]
  },
  {
   "cell_type": "code",
   "execution_count": 10,
   "metadata": {},
   "outputs": [],
   "source": []
  },
  {
   "cell_type": "code",
   "execution_count": 22,
   "metadata": {},
   "outputs": [
    {
     "data": {
      "text/plain": [
       "-156827"
      ]
     },
     "execution_count": 22,
     "metadata": {},
     "output_type": "execute_result"
    }
   ],
   "source": [
    "uniprot_human_mapping."
   ]
  }
 ],
 "metadata": {
  "interpreter": {
   "hash": "d144c520309591b846900365be6dbd1f23c74ca90db55f6ed2c6f618620f793a"
  },
  "kernelspec": {
   "display_name": "Python 3.8.5 64-bit ('variants': conda)",
   "language": "python",
   "name": "python3"
  },
  "language_info": {
   "codemirror_mode": {
    "name": "ipython",
    "version": 3
   },
   "file_extension": ".py",
   "mimetype": "text/x-python",
   "name": "python",
   "nbconvert_exporter": "python",
   "pygments_lexer": "ipython3",
   "version": "3.8.5"
  },
  "orig_nbformat": 4
 },
 "nbformat": 4,
 "nbformat_minor": 2
}
